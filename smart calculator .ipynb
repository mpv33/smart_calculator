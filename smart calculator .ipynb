{
 "cells": [
  {
   "cell_type": "code",
   "execution_count": 1,
   "metadata": {},
   "outputs": [],
   "source": [
    "response=['Welcome to smart calculator','My name is MONTY','Thanks for enjoy with me ','Sorry ,this is beyond my ability']"
   ]
  },
  {
   "cell_type": "code",
   "execution_count": 2,
   "metadata": {},
   "outputs": [],
   "source": [
    "def extract_from_text(text):\n",
    "\tl=[]\n",
    "\tfor t in text.split(' '):\n",
    "\t\ttry:\n",
    "\t\t\tl.append(float(t))\n",
    "\t\texcept ValueError:\n",
    "\t\t\tpass\n",
    "\treturn l"
   ]
  },
  {
   "cell_type": "code",
   "execution_count": 3,
   "metadata": {},
   "outputs": [],
   "source": [
    "def lcm(a,b):\n",
    "\tL=a if a>b else b\n",
    "\twhile L<=a*b:\n",
    "\t\tif L%a==0 and L%b==0:\n",
    "\t\t\treturn L\n",
    "\t\tL+=1"
   ]
  },
  {
   "cell_type": "code",
   "execution_count": 4,
   "metadata": {},
   "outputs": [],
   "source": [
    "def hcf(a,b):\n",
    "\tH=a if a<b else b\n",
    "\twhile H>=1:\n",
    "\t\tif a%H==0 and b%H==0:\n",
    "\t\t\treturn H\n",
    "\t\tH-=1"
   ]
  },
  {
   "cell_type": "code",
   "execution_count": null,
   "metadata": {},
   "outputs": [],
   "source": [
    "def add(a,b):\n",
    "\treturn a+b\n",
    "def sub(a,b):\n",
    "\treturn a-b\n",
    "def mul(a,b):\n",
    "\treturn a*b\n",
    "def div(a,b):\n",
    "\treturn a/b\n",
    "def mod(a,b):\n",
    "\treturn a%b\n",
    "def end():\n",
    "\tprint(response[2])\n",
    "\tinput('press enter any key to exit')\n",
    "\texit()\n",
    "\n",
    "def myname():\n",
    "\tprint(response[1])\n",
    "def sorry():\n",
    "\tprint(response[3])"
   ]
  },
  {
   "cell_type": "code",
   "execution_count": null,
   "metadata": {},
   "outputs": [],
   "source": [
    "operations={'ADD':add,'PLUS':add,'SUM':add,'ADDITION':add,'SUB':sub,'SUBTRACT':sub,'MINUS':sub,'DIFFERENCE':sub,\n",
    "            'LCM':lcm,'HCF':hcf,'PRODUCT':mul,'MULTIPLY':mul,'MULTIPLICATION':mul,'DIVISION':div,'MOD':mod,\n",
    "            'REMANDER':mod,'MODULAS':mod}\n",
    "commands={'NAME':myname,'EXIT':end,'END':end,'CLOSE':end}"
   ]
  },
  {
   "cell_type": "code",
   "execution_count": null,
   "metadata": {},
   "outputs": [
    {
     "name": "stdout",
     "output_type": "stream",
     "text": [
      "--------------Welcome to smart calculator------------\n",
      "--------------My name is MONTY--------------------\n",
      "\n",
      "Enter your queries: hi smart whar is your name\n",
      "My name is MONTY\n",
      "\n",
      "Enter your queries: so find the lcm of 5 25\n",
      "25.0\n",
      "\n",
      "Enter your queries: find the hcf of 24 6\n",
      "6.0\n",
      "\n",
      "Enter your queries: now tell me what is the mod of 4 and 9\n",
      "4.0\n",
      "\n",
      "Enter your queries: mod 9 and 4\n",
      "1.0\n",
      "\n",
      "Enter your queries: end the program\n",
      "Thanks for enjoy with me \n",
      "press enter any key to exit\n",
      "\n",
      "Enter your queries: \n",
      "Sorry ,this is beyond my ability\n",
      "\n",
      "Enter your queries: end\n",
      "Thanks for enjoy with me \n"
     ]
    }
   ],
   "source": [
    "print('--------------'+response[0]+'------------')\n",
    "print('--------------'+response[1]+'--------------------')\n",
    "\n",
    "while True:\n",
    "\tprint()\n",
    "\ttext=input('Enter your queries: ')\n",
    "\tfor word in text.split(' '):\n",
    "\t\tif word.upper() in operations.keys():\n",
    "\t\t\ttry:\n",
    "\t\t\t\tl=extract_from_text(text)\n",
    "\t\t\t\tr=operations[word.upper()] (l[0],l[1])\n",
    "\t\t\t\tprint(r)\n",
    "\t\t\texcept:\n",
    "\t\t\t\tprint('something went wrong going plz enter again !!!!! ')\n",
    "\t\t\tfinally:\n",
    "\t\t\t\t\tbreak\n",
    "\t\telif word.upper() in commands.keys():\n",
    "\t\t\t\t\tcommands[word.upper()]()\n",
    "\t\t\t\t\tbreak\n",
    "\telse:\n",
    "\t\t\n",
    "\t\tsorry()"
   ]
  },
  {
   "cell_type": "code",
   "execution_count": null,
   "metadata": {},
   "outputs": [],
   "source": []
  }
 ],
 "metadata": {
  "kernelspec": {
   "display_name": "Python 3",
   "language": "python",
   "name": "python3"
  },
  "language_info": {
   "codemirror_mode": {
    "name": "ipython",
    "version": 3
   },
   "file_extension": ".py",
   "mimetype": "text/x-python",
   "name": "python",
   "nbconvert_exporter": "python",
   "pygments_lexer": "ipython3",
   "version": "3.7.3"
  }
 },
 "nbformat": 4,
 "nbformat_minor": 2
}
